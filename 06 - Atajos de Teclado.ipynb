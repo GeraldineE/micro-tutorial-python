{
 "cells": [
  {
   "cell_type": "markdown",
   "metadata": {},
   "source": [
    "## Modo Comando (Esc)\n",
    "\n",
    "- **Esc** lo llevará al modo comando donde puede navegar con las teclas de flechas.\n",
    "- **A** - Insertar una nueva celda sobre la celda actual\n",
    "- **B** - Insertar una nueva celda a continuación\n",
    "- **M** - Cambiar la celda actual a Markdown\n",
    "- **Y** - Cambiarla de nuevo a código\n",
    "- **D + D** Eliminar la celda actual (presione la tecla dos veces)\n",
    "\n",
    "## Modo Edición (Enter)\n",
    "\n",
    "- **Enter** lo llevará desde el modo comando nuevamente al modo de edición para la celda dada.\n",
    "- **Shift + Tab** Ver documentación para el objeto que acaba de escribir en una celda de código. Puede seguir presionando este atajo para recorrer algunos modos de documentación.\n",
    "- **Ctrl + Shift + -** Dividir la celda actual en dos desde donde está el cursor.\n",
    "- **Esc + F** Encuentra y reemplaza en tu código pero no en las salidas.\n",
    "- **Esc + O** Alterna la salida de la celda.\n",
    "\n",
    "## Seleccione Múltiples Celdas:\n",
    "\n",
    "- **Shift + J | Shift + Abajo**  Selecciona la próxima celda en una dirección hacia abajo.\n",
    "- **Mayús + K | Mayús + Arriba** Seleccionar celda en sentido ascendente usando \n",
    "- **Shift + M** Combinar varias celdas\n",
    "\n",
    "Una vez que se seleccionan las celdas, puede eliminar / copiar / cortar / pegar / ejecutarlas como un lote. Esto es útil cuando necesita mover partes."
   ]
  }
 ],
 "metadata": {
  "kernelspec": {
   "display_name": "Python 3",
   "language": "python",
   "name": "python3"
  },
  "language_info": {
   "codemirror_mode": {
    "name": "ipython",
    "version": 3
   },
   "file_extension": ".py",
   "mimetype": "text/x-python",
   "name": "python",
   "nbconvert_exporter": "python",
   "pygments_lexer": "ipython3",
   "version": "3.6.3"
  }
 },
 "nbformat": 4,
 "nbformat_minor": 2
}
