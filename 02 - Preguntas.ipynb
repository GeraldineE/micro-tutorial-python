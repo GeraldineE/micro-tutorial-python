{
 "cells": [
  {
   "cell_type": "markdown",
   "metadata": {},
   "source": [
    "# ¿Que es Python?"
   ]
  },
  {
   "cell_type": "markdown",
   "metadata": {},
   "source": [
    "sencillo, Python es un lenguaje de programacion que nos va a ayudar a comunicarnos con el computador para que siga las ordenes que le demos\n",
    "\n",
    "## ¿que es un lenguaje de programación?\n",
    "es la forma con la que nos comunicamos con el computador. \n",
    "a partir de una serie de instrucciones y \"palabras claves\" el computador entendera que es lo que queremos\n",
    "\n",
    "## ¿porque python?\n",
    "python facil de leer (si sabes ingles), es facil de aprender,  y cuenta con una gran comunidad que puede ayudar a comprender y a dar solucion al problema que te plantees\n",
    "\n",
    "## ¿donde puedo apoyarme para seguir aprendiendo sobre python?\n",
    "la comunidad de python cuenta con gran cantidad de materiales y guias de estudio para continuar con el aprendizaje.\n"
   ]
  },
  {
   "cell_type": "markdown",
   "metadata": {},
   "source": []
  }
 ],
 "metadata": {
  "kernelspec": {
   "display_name": "Python 3",
   "language": "python",
   "name": "python3"
  },
  "language_info": {
   "codemirror_mode": {
    "name": "ipython",
    "version": 3
   },
   "file_extension": ".py",
   "mimetype": "text/x-python",
   "name": "python",
   "nbconvert_exporter": "python",
   "pygments_lexer": "ipython3",
   "version": "3.6.4"
  }
 },
 "nbformat": 4,
 "nbformat_minor": 2
}
